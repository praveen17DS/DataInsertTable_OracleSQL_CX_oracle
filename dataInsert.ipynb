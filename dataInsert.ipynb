{
 "cells": [
  {
   "cell_type": "code",
   "execution_count": 2,
   "metadata": {},
   "outputs": [],
   "source": [
    "import pandas as pd\n",
    "import cx_Oracle\n",
    "data = pd.read_excel(\"operation pending  data.xlsx\")\n",
    "con = cx_Oracle.connect(\"username\", \"password\", \"HISTDB\")\n",
    "cursor = con.cursor()   "
   ]
  },
  {
   "cell_type": "code",
   "execution_count": 47,
   "metadata": {},
   "outputs": [],
   "source": [
    "# data.head(5)"
   ]
  },
  {
   "cell_type": "code",
   "execution_count": 14,
   "metadata": {},
   "outputs": [],
   "source": [
    "create_table = \"\"\"\n",
    "CREATE TABLE test1_g (\n",
    "       CUST_ID VARCHAR2(50) NOT NULL,\n",
    "       REG_DATE VARCHAR2(50) NOT NULL,\n",
    "       BRANCH_ID VARCHAR2(50) NOT NULL,\n",
    "       CUST_NAME VARCHAR2(50) NOT NULL,\n",
    "       NAME VARCHAR2(50) NOT NULL,\n",
    "       FATHER_NAME VARCHAR2(50) NOT NULL,\n",
    "       HOUSE_NAME VARCHAR2(50) NOT NULL,\n",
    "        LOCALITY VARCHAR2(50) NOT NULL,\n",
    "       PIN VARCHAR2(50) NOT NULL,\n",
    "       GENDER VARCHAR2(50) NOT NULL,\n",
    "       DATE_OF_BIRTH VARCHAR2(50) NOT NULL,\n",
    "       REG_DATE1 VARCHAR2(50) NOT NULL,\n",
    "       COUNTRY VARCHAR2(50) NOT NULL,\n",
    "       PLEDGE_PHOTO VARCHAR2(50) NOT NULL,\n",
    "         KYC_PHOTO VARCHAR2(50) NOT NULL,\n",
    "       KYC_TYPE VARCHAR2(50) NOT NULL,\n",
    "        PAN_FORM60 VARCHAR2(50) NOT NULL,\n",
    "       MASKING_STATUS VARCHAR2(50) NOT NULL,\n",
    "       MASKING_FAIL_STATUS VARCHAR2(50) NOT NULL\n",
    ")    \"\"\"    "
   ]
  },
  {
   "cell_type": "code",
   "execution_count": 15,
   "metadata": {},
   "outputs": [],
   "source": [
    "cursor.execute(create_table)"
   ]
  },
  {
   "cell_type": "code",
   "execution_count": 43,
   "metadata": {},
   "outputs": [
    {
     "data": {
      "text/plain": [
       "<function Connection.close>"
      ]
     },
     "execution_count": 43,
     "metadata": {},
     "output_type": "execute_result"
    }
   ],
   "source": [
    "\n",
    "rec = data.astype(str).values.tolist()\n",
    "\n",
    "for i in range(len(rec)):\n",
    "    cursor.prepare(\"INSERT INTO test1_g VALUES (:1,:2,:3,:4,:5,:6,:7,:8,:9,:10,:11,:12,:13,:14,:15,:16,:17,:18,:19)\")\n",
    "    cursor.executemany(None,([rec[i]]))\n",
    "\n",
    "con.commit()\n",
    "con.close"
   ]
  },
  {
   "cell_type": "code",
   "execution_count": null,
   "metadata": {},
   "outputs": [],
   "source": [
    "import cx_Oracle\n",
    "import pandas\n",
    "connection = cx_Oracle.connect(\"username\", \"password\", \"HISTDB\")\n",
    "sql = 'select * from test1_g'\n",
    "df = pandas.read_sql(sql,con=connection)\n"
   ]
  },
  {
   "cell_type": "code",
   "execution_count": null,
   "metadata": {},
   "outputs": [],
   "source": [
    "# import cx_Oracle\n",
    "# con = cx_Oracle.connect(\"username\", \"password\", \"HISTDB\")\n",
    "# ver=con.version.split(\".\")\n",
    "# print(ver)\n",
    "# cur=con.cursor()\n",
    "# cur.executemany(\"insert into test1_g(CUST_ID) values (:1)\", lines)\n",
    "# con.commit ()\n",
    "# cur.close()"
   ]
  }
 ],
 "metadata": {
  "kernelspec": {
   "display_name": "Python 3",
   "language": "python",
   "name": "python3"
  },
  "language_info": {
   "codemirror_mode": {
    "name": "ipython",
    "version": 3
   },
   "file_extension": ".py",
   "mimetype": "text/x-python",
   "name": "python",
   "nbconvert_exporter": "python",
   "pygments_lexer": "ipython3",
   "version": "3.7.6"
  }
 },
 "nbformat": 4,
 "nbformat_minor": 4
}
